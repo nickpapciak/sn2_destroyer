{
 "cells": [
  {
   "cell_type": "code",
   "execution_count": 37,
   "id": "c77f329f",
   "metadata": {},
   "outputs": [],
   "source": [
    "from functools import lru_cache\n",
    "import sys\n",
    "import math\n",
    "\n",
    "# don't do this\n",
    "sys.setrecursionlimit(15000000)\n",
    "\n",
    "@lru_cache(maxsize=None)\n",
    "def sn2(n, k):\n",
    "    \"\"\"the stirling number of the second kind\"\"\"\n",
    "    if n == k:\n",
    "        return 1\n",
    "    if n == 0 or k == 0: \n",
    "        return 0\n",
    "    return sn2(n - 1, k - 1) + k*sn2(n - 1, k)\n",
    "\n",
    "@lru_cache(maxsize=None)\n",
    "def sn2_visualizer(n, k):\n",
    "    \"\"\"visualizes the stirling numbers as the collection of all possible permutations\"\"\"\n",
    "    if n == k:\n",
    "        return [[{i} for i in range(1, n + 1)]]\n",
    "    if n == 0 or k == 0: \n",
    "        return []\n",
    "    \n",
    "    # basically doing the combinatorial \n",
    "    # interpretation of the reccurence relation \n",
    "    insert_into = []\n",
    "    for permutation in sn2_visualizer(n-1, k): \n",
    "        for i, s in enumerate(permutation):\n",
    "            inserted = permutation.copy()\n",
    "            inserted[i] = s | {n}\n",
    "            insert_into.append(inserted)\n",
    "\n",
    "    add_singleton = []\n",
    "    for permutation in sn2_visualizer(n-1, k-1):\n",
    "        add_singleton.append(permutation + [{n}])\n",
    "    \n",
    "    return add_singleton + insert_into\n",
    "\n",
    "def sn2_shape(p): \n",
    "    \"\"\"returns the shape of a stirling number as a string\"\"\"\n",
    "    return \":\".join(sorted([str(len(s)) for s in p]))\n",
    "\n",
    "def sn2_group(perm):\n",
    "    \"\"\"groups the stirling numbers by shape\"\"\"\n",
    "    groupings = {}\n",
    "    for p in perm: \n",
    "        shape = sn2_shape(p)\n",
    "        groupings.setdefault(shape, [])\n",
    "        groupings[shape].append(sorted(p, key = len))\n",
    "    return groupings\n",
    "\n",
    "def partitions(n, I=1):\n",
    "    \"\"\"generates the integer partitions of n\"\"\"\n",
    "    yield (n,)\n",
    "    for i in range(I, n//2 + 1):\n",
    "        for p in partitions(n-i, i):\n",
    "            yield (i,) + p\n",
    "            \n",
    "def central_partitions(n): \n",
    "    \"\"\"generates the integer partitions of 2n of length n\"\"\"\n",
    "    return [p for p in partitions(2*n) if len(p) == n]"
   ]
  },
  {
   "cell_type": "code",
   "execution_count": 38,
   "id": "0852abc7",
   "metadata": {},
   "outputs": [],
   "source": [
    "# random printing methods: \n",
    "def sn2_pprint(sn2):\n",
    "    if sn2 == [] or sn2 == [[]]: \n",
    "        return\n",
    "    n = 4*max([len(max(t)) for t in sn2])\n",
    "    for i, permutation in enumerate(sn2): \n",
    "        for s in permutation: \n",
    "            print(f\"{str(s):^{n}}\", end=\"\")\n",
    "        print()\n",
    "\n",
    "        \n",
    "def sn2_group_pprint(sn2):\n",
    "    for group, permutations in sn2_group(sn2).items(): \n",
    "        print(f\"{len(permutations)} entries in {group}\")\n",
    "        sn2_pprint(permutations)\n",
    "        print()\n",
    "        \n",
    "\n",
    "def sn2_group_pprint_numbers(n, k):\n",
    "    for group, permutations in sn2_group(sn2_visualizer(n, k)).items(): \n",
    "        l = len(permutations)\n",
    "        print(f\"{l} entries in {group} | {l} / {k} = {l/k} \")\n",
    "        print()\n",
    "\n",
    "# uses multinomial coefficients to print out the central group counts\n",
    "def sn2_central_group_counts(n):\n",
    "    total = 0\n",
    "    for p in central_partitions(n):\n",
    "        c = math.factorial(2*n)\n",
    "        for i in p: \n",
    "            c //= math.factorial(i)\n",
    "\n",
    "        for i in set(p): \n",
    "            c //= math.factorial(p.count(i))\n",
    "\n",
    "        group = \":\".join(str(n) for n in p)\n",
    "        print(f\"{c} entries in {group} | {c} mod {n} = {c%n} \")\n",
    "        print()\n",
    "        total += c\n",
    "    print(total)"
   ]
  },
  {
   "cell_type": "code",
   "execution_count": 29,
   "id": "30ca7d58",
   "metadata": {},
   "outputs": [],
   "source": [
    "# from multiprocessing import Pool\n",
    "\n",
    "# with Pool(5) as p:\n",
    "#     print(p.map(sn2_visualizer, [(2, 1), (4, 2), (6, 3)]))"
   ]
  },
  {
   "cell_type": "code",
   "execution_count": 30,
   "id": "90658770",
   "metadata": {},
   "outputs": [
    {
     "data": {
      "text/plain": [
       "[(1, 1, 1, 5), (1, 1, 2, 4), (1, 1, 3, 3), (1, 2, 2, 3), (2, 2, 2, 2)]"
      ]
     },
     "execution_count": 30,
     "metadata": {},
     "output_type": "execute_result"
    }
   ],
   "source": [
    "n=4\n",
    "[p for p in partitions(2*n) if len(p) == n]"
   ]
  },
  {
   "cell_type": "code",
   "execution_count": 31,
   "id": "0c6477ec",
   "metadata": {},
   "outputs": [
    {
     "name": "stdout",
     "output_type": "stream",
     "text": [
      "210 entries in 1:1:1:1:6 | 210 mod 5 = 0 \n",
      "\n",
      "2520 entries in 1:1:1:2:5 | 2520 mod 5 = 0 \n",
      "\n",
      "4200 entries in 1:1:1:3:4 | 4200 mod 5 = 0 \n",
      "\n",
      "9450 entries in 1:1:2:2:4 | 9450 mod 5 = 0 \n",
      "\n",
      "12600 entries in 1:1:2:3:3 | 12600 mod 5 = 0 \n",
      "\n",
      "12600 entries in 1:2:2:2:3 | 12600 mod 5 = 0 \n",
      "\n",
      "945 entries in 2:2:2:2:2 | 945 mod 5 = 0 \n",
      "\n",
      "42525\n"
     ]
    }
   ],
   "source": [
    "sn2_central_group_counts(5)"
   ]
  },
  {
   "cell_type": "code",
   "execution_count": 32,
   "id": "f67d132c",
   "metadata": {},
   "outputs": [
    {
     "name": "stdout",
     "output_type": "stream",
     "text": [
      "1 entries in 2 | 1 / 1 = 1.0 \n",
      "\n"
     ]
    }
   ],
   "source": [
    "n=1\n",
    "sn2_group_pprint_numbers(2*n, n)"
   ]
  },
  {
   "cell_type": "code",
   "execution_count": 33,
   "id": "92cffe93",
   "metadata": {},
   "outputs": [
    {
     "name": "stdout",
     "output_type": "stream",
     "text": [
      "646646 entries in 1:1:1:1:1:1:1:1:1:1:12 | 646646 mod 11 = 0 \n",
      "\n",
      "38798760 entries in 1:1:1:1:1:1:1:1:1:2:11 | 38798760 mod 11 = 0 \n",
      "\n",
      "142262120 entries in 1:1:1:1:1:1:1:1:1:3:10 | 142262120 mod 11 = 0 \n",
      "\n",
      "355655300 entries in 1:1:1:1:1:1:1:1:1:4:9 | 355655300 mod 11 = 0 \n",
      "\n",
      "640179540 entries in 1:1:1:1:1:1:1:1:1:5:8 | 640179540 mod 11 = 0 \n",
      "\n",
      "853572720 entries in 1:1:1:1:1:1:1:1:1:6:7 | 853572720 mod 11 = 0 \n",
      "\n",
      "960269310 entries in 1:1:1:1:1:1:1:1:2:2:10 | 960269310 mod 11 = 0 \n",
      "\n",
      "6401795400 entries in 1:1:1:1:1:1:1:1:2:3:9 | 6401795400 mod 11 = 0 \n",
      "\n",
      "14404039650 entries in 1:1:1:1:1:1:1:1:2:4:8 | 14404039650 mod 11 = 0 \n",
      "\n",
      "23046463440 entries in 1:1:1:1:1:1:1:1:2:5:7 | 23046463440 mod 11 = 0 \n",
      "\n",
      "13443770340 entries in 1:1:1:1:1:1:1:1:2:6:6 | 13443770340 mod 11 = 0 \n",
      "\n",
      "9602693100 entries in 1:1:1:1:1:1:1:1:3:3:8 | 9602693100 mod 11 = 0 \n",
      "\n",
      "38410772400 entries in 1:1:1:1:1:1:1:1:3:4:7 | 38410772400 mod 11 = 0 \n",
      "\n",
      "53775081360 entries in 1:1:1:1:1:1:1:1:3:5:6 | 53775081360 mod 11 = 0 \n",
      "\n",
      "33609425850 entries in 1:1:1:1:1:1:1:1:4:4:6 | 33609425850 mod 11 = 0 \n",
      "\n",
      "40331311020 entries in 1:1:1:1:1:1:1:1:4:5:5 | 40331311020 mod 11 = 0 \n",
      "\n",
      "12803590800 entries in 1:1:1:1:1:1:1:2:2:2:9 | 12803590800 mod 11 = 0 \n",
      "\n",
      "115232317200 entries in 1:1:1:1:1:1:1:2:2:3:8 | 115232317200 mod 11 = 0 \n",
      "\n",
      "230464634400 entries in 1:1:1:1:1:1:1:2:2:4:7 | 230464634400 mod 11 = 0 \n",
      "\n",
      "322650488160 entries in 1:1:1:1:1:1:1:2:2:5:6 | 322650488160 mod 11 = 0 \n",
      "\n",
      "307286179200 entries in 1:1:1:1:1:1:1:2:3:3:7 | 307286179200 mod 11 = 0 \n",
      "\n",
      "1075501627200 entries in 1:1:1:1:1:1:1:2:3:4:6 | 1075501627200 mod 11 = 0 \n",
      "\n",
      "645300976320 entries in 1:1:1:1:1:1:1:2:3:5:5 | 645300976320 mod 11 = 0 \n",
      "\n",
      "806626220400 entries in 1:1:1:1:1:1:1:2:4:4:5 | 806626220400 mod 11 = 0 \n",
      "\n",
      "239000361600 entries in 1:1:1:1:1:1:1:3:3:3:6 | 239000361600 mod 11 = 0 \n",
      "\n",
      "1075501627200 entries in 1:1:1:1:1:1:1:3:3:4:5 | 1075501627200 mod 11 = 0 \n",
      "\n",
      "448125678000 entries in 1:1:1:1:1:1:1:3:4:4:4 | 448125678000 mod 11 = 0 \n",
      "\n",
      "100828277550 entries in 1:1:1:1:1:1:2:2:2:2:8 | 100828277550 mod 11 = 0 \n",
      "\n",
      "1075501627200 entries in 1:1:1:1:1:1:2:2:2:3:7 | 1075501627200 mod 11 = 0 \n",
      "\n",
      "1882127847600 entries in 1:1:1:1:1:1:2:2:2:4:6 | 1882127847600 mod 11 = 0 \n",
      "\n",
      "1129276708560 entries in 1:1:1:1:1:1:2:2:2:5:5 | 1129276708560 mod 11 = 0 \n",
      "\n",
      "3764255695200 entries in 1:1:1:1:1:1:2:2:3:3:6 | 3764255695200 mod 11 = 0 \n",
      "\n",
      "11292767085600 entries in 1:1:1:1:1:1:2:2:3:4:5 | 11292767085600 mod 11 = 0 \n",
      "\n",
      "2352659809500 entries in 1:1:1:1:1:1:2:2:4:4:4 | 2352659809500 mod 11 = 0 \n",
      "\n",
      "5019007593600 entries in 1:1:1:1:1:1:2:3:3:3:5 | 5019007593600 mod 11 = 0 \n",
      "\n",
      "9410639238000 entries in 1:1:1:1:1:1:2:3:3:4:4 | 9410639238000 mod 11 = 0 \n",
      "\n",
      "2091253164000 entries in 1:1:1:1:1:1:3:3:3:3:4 | 2091253164000 mod 11 = 0 \n",
      "\n",
      "483975732240 entries in 1:1:1:1:1:2:2:2:2:2:7 | 483975732240 mod 11 = 0 \n",
      "\n",
      "5646383542800 entries in 1:1:1:1:1:2:2:2:2:3:6 | 5646383542800 mod 11 = 0 \n",
      "\n",
      "8469575314200 entries in 1:1:1:1:1:2:2:2:2:4:5 | 8469575314200 mod 11 = 0 \n",
      "\n",
      "22585534171200 entries in 1:1:1:1:1:2:2:2:3:3:5 | 22585534171200 mod 11 = 0 \n",
      "\n",
      "28231917714000 entries in 1:1:1:1:1:2:2:2:3:4:4 | 28231917714000 mod 11 = 0 \n",
      "\n",
      "37642556952000 entries in 1:1:1:1:1:2:2:3:3:3:4 | 37642556952000 mod 11 = 0 \n",
      "\n",
      "5019007593600 entries in 1:1:1:1:1:2:3:3:3:3:3 | 5019007593600 mod 11 = 0 \n",
      "\n",
      "1411595885700 entries in 1:1:1:1:2:2:2:2:2:2:6 | 1411595885700 mod 11 = 0 \n",
      "\n",
      "16939150628400 entries in 1:1:1:1:2:2:2:2:2:3:5 | 16939150628400 mod 11 = 0 \n",
      "\n",
      "10586969142750 entries in 1:1:1:1:2:2:2:2:2:4:4 | 10586969142750 mod 11 = 0 \n",
      "\n",
      "70579794285000 entries in 1:1:1:1:2:2:2:2:3:3:4 | 70579794285000 mod 11 = 0 \n",
      "\n",
      "31368797460000 entries in 1:1:1:1:2:2:2:3:3:3:3 | 31368797460000 mod 11 = 0 \n",
      "\n",
      "2419878661200 entries in 1:1:1:2:2:2:2:2:2:2:5 | 2419878661200 mod 11 = 0 \n",
      "\n",
      "28231917714000 entries in 1:1:1:2:2:2:2:2:2:3:4 | 28231917714000 mod 11 = 0 \n",
      "\n",
      "37642556952000 entries in 1:1:1:2:2:2:2:2:3:3:3 | 37642556952000 mod 11 = 0 \n",
      "\n",
      "2268636244875 entries in 1:1:2:2:2:2:2:2:2:2:4 | 2268636244875 mod 11 = 0 \n",
      "\n",
      "12099393306000 entries in 1:1:2:2:2:2:2:2:2:3:3 | 12099393306000 mod 11 = 0 \n",
      "\n",
      "1008282775500 entries in 1:2:2:2:2:2:2:2:2:2:3 | 1008282775500 mod 11 = 0 \n",
      "\n",
      "13749310575 entries in 2:2:2:2:2:2:2:2:2:2:2 | 13749310575 mod 11 = 0 \n",
      "\n",
      "366282500870286\n"
     ]
    }
   ],
   "source": [
    "sn2_central_group_counts(11)"
   ]
  },
  {
   "cell_type": "code",
   "execution_count": 34,
   "id": "bafc68d9",
   "metadata": {},
   "outputs": [
    {
     "name": "stdout",
     "output_type": "stream",
     "text": [
      "4 entries in 1:3\n",
      "{4} {1, 2, 3}\n",
      "{3} {1, 2, 4}\n",
      "{2} {1, 3, 4}\n",
      "{1} {2, 3, 4}\n",
      "\n",
      "3 entries in 2:2\n",
      " {1, 2}  {3, 4} \n",
      " {1, 3}  {2, 4} \n",
      " {1, 4}  {2, 3} \n",
      "\n"
     ]
    }
   ],
   "source": [
    "sn2_group_pprint(sn2_visualizer(4, 2))"
   ]
  },
  {
   "cell_type": "code",
   "execution_count": 35,
   "id": "c193d959",
   "metadata": {
    "scrolled": false
   },
   "outputs": [
    {
     "name": "stdout",
     "output_type": "stream",
     "text": [
      "Visualization of S(8, 4): \n",
      "There should be 1701 entries\n",
      "_________________________\n",
      "\n",
      "\n",
      "One way to partition 0 things into 0 boxes: [[]]\n",
      "One way to partition 1 thing into 1 box: [[{1}]]\n",
      "No ways to partition 1 things into 0 boxes: []\n",
      "No ways to partition 0 things into 1 boxes: []\n",
      "checking equivalences\n"
     ]
    }
   ],
   "source": [
    "n = 8\n",
    "k = 4\n",
    "\n",
    "print(f\"Visualization of S({n}, {k}): \")\n",
    "print(f\"There should be {sn2(n, k)} entries\")\n",
    "print(\"_________________________\\n\")\n",
    "# sn2_pprint(sn2_visualizer(n, k))\n",
    "print()\n",
    "\n",
    "print(\"One way to partition 0 things into 0 boxes:\", sn2_visualizer(0, 0))\n",
    "print(\"One way to partition 1 thing into 1 box:\", sn2_visualizer(1, 1))\n",
    "print(\"No ways to partition 1 things into 0 boxes:\", sn2_visualizer(1, 0))\n",
    "print(\"No ways to partition 0 things into 1 boxes:\", sn2_visualizer(0, 1))\n",
    "\n",
    "print(\"checking equivalences\")\n"
   ]
  },
  {
   "cell_type": "code",
   "execution_count": 36,
   "id": "3a996a7a",
   "metadata": {},
   "outputs": [
    {
     "data": {
      "text/plain": [
       "44042407116483863455988972406115927267416540478166873829064052628962553342884222747051726319629343698937389227618361831601619534968366874144898205222202152283130427656049150823153247308414635693735597124432023850600048032836083287683782251655598206454887818130973522803498478340769203620178579557285279809897622887732993071472965262401487407433068456498085139613819630614769568883697139612007169786140860387394576564176040630898804339083578288312176360023862046538109164313668860213999178825726415136897864657834604983564174988892428236279032629884831840563947185978093850321182420021570334685729548118372624887375454850017606529497733589414064558555799151031944445476088445955380315203425906459117570871726094001271560252396207469255275773270876726171387155332975678804391791979570786055539482198187829774191447949347233355912293056810284717944413043169475368799034855530794352320512106799989081520269611718464451611747839272713653975035007848100997148635348296042850248883292511710967174856520091090084788213056690816194634145496901062349645523443524962684428300905283768986384310617493369174983796394729351681241000699612619966206956250072184683488183266405084052097684280488782435195621886985467303323433809607393744661426863331508596833015334156454803175959704692963363501615621"
      ]
     },
     "execution_count": 36,
     "metadata": {},
     "output_type": "execute_result"
    }
   ],
   "source": [
    "sn2(1000, 20)"
   ]
  },
  {
   "cell_type": "code",
   "execution_count": null,
   "id": "c2221382",
   "metadata": {},
   "outputs": [],
   "source": []
  }
 ],
 "metadata": {
  "kernelspec": {
   "display_name": "Python 3 (ipykernel)",
   "language": "python",
   "name": "python3"
  },
  "language_info": {
   "codemirror_mode": {
    "name": "ipython",
    "version": 3
   },
   "file_extension": ".py",
   "mimetype": "text/x-python",
   "name": "python",
   "nbconvert_exporter": "python",
   "pygments_lexer": "ipython3",
   "version": "3.10.8"
  },
  "vscode": {
   "interpreter": {
    "hash": "5c7b89af1651d0b8571dde13640ecdccf7d5a6204171d6ab33e7c296e100e08a"
   }
  }
 },
 "nbformat": 4,
 "nbformat_minor": 5
}
